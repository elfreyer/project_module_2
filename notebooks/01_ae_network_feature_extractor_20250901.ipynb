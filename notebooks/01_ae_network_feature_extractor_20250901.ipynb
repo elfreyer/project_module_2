{
 "cells": [
  {
   "cell_type": "markdown",
   "id": "a7f22ecb",
   "metadata": {},
   "source": [
    "\n",
    "# CIFAR-10 Dataset\n",
    "\n",
    "- CIFAR-10 is a well-known benchmark dataset in computer vision.  \n",
    "- It contains 60,000 color images, each of size 32×32 pixels.  \n",
    "- There are 10 classes: airplane, automobile, bird, cat, deer, dog, frog, horse, ship, and truck.  \n",
    "- The dataset is split into:\n",
    "  - 50,000 training images\n",
    "  - 10,000 test images\n",
    "\n",
    "---\n",
    "\n",
    "## Machine Learning Problem\n",
    "\n",
    "- **Type**: Supervised image classification  \n",
    "- **Task**: Learn to map image pixels to one of the 10 class labels.  \n",
    "- **Goal**: Train a model that correctly predicts the class of unseen test images.  \n",
    "- **Challenge**:  \n",
    "  - Low resolution makes feature extraction harder.  \n",
    "  - Some classes are visually similar (e.g., cat vs. dog, truck vs. automobile).  \n",
    "- **Use case for feature extractors**: Models can be trained to extract meaningful features from the images, which can then be used for classification or transferred to other tasks.\n",
    "\n",
    "## Pretrained Models\n",
    "\n",
    "- In TensorFlow (via `tf.keras.applications`), pretrained models are trained on **ImageNet** (1.2M images, 1000 classes).  \n",
    "- Popular choices include **MobileNetV2**, **EfficientNet**, **ResNet50**, and **InceptionV3**.  \n",
    "- These models expect **larger input sizes** (usually 224×224 pixels or higher).  \n",
    "  - To use them with CIFAR-10 (32×32), images must be **resized** to match the model’s expected input.  \n",
    "- Each model comes with a dedicated `preprocess_input` function that prepares images (scaling and normalization) consistently with how the model was trained.  \n",
    "- When used as **feature extractors**, we remove the final classification layer and keep the intermediate representation (embedding).  \n",
    "  - These embeddings capture **general visual patterns** (edges, textures, object parts) learned from ImageNet.  \n",
    "  - They can then be used to train a **new classifier** on CIFAR-10, or compared with **classical models** like Logistic Regression, SVM, kNN, or Random Forest.  \n",
    "\n",
    "### Why use pretrained models?\n",
    "- **Faster convergence**: We start from general-purpose vision features instead of random weights.  \n",
    "- **Better accuracy**: Even though CIFAR-10 is small, ImageNet-pretrained features transfer well.  \n",
    "- **Flexibility**: Embeddings can be reused for other datasets or tasks beyond CIFAR-10.  \n",
    "\n",
    "---\n",
    "\n"
   ]
  },
  {
   "cell_type": "markdown",
   "id": "67a734fa",
   "metadata": {},
   "source": [
    " # Import the packages"
   ]
  },
  {
   "cell_type": "code",
   "execution_count": 1,
   "id": "1a9457a4",
   "metadata": {},
   "outputs": [
    {
     "name": "stderr",
     "output_type": "stream",
     "text": [
      "2025-09-17 11:08:57.914496: I tensorflow/core/platform/cpu_feature_guard.cc:182] This TensorFlow binary is optimized to use available CPU instructions in performance-critical operations.\n",
      "To enable the following instructions: SSE4.1 SSE4.2 AVX AVX2 AVX_VNNI FMA, in other operations, rebuild TensorFlow with the appropriate compiler flags.\n"
     ]
    }
   ],
   "source": [
    "# Standard library\n",
    "import numpy as np\n",
    "import tensorflow as tf\n",
    "import matplotlib.pyplot as plt\n",
    "\n",
    "# Magic command\n",
    "%matplotlib inline\n"
   ]
  },
  {
   "cell_type": "markdown",
   "id": "ff18c872",
   "metadata": {},
   "source": [
    "# Loading the dataset"
   ]
  },
  {
   "cell_type": "code",
   "execution_count": 2,
   "id": "d01a3f95",
   "metadata": {},
   "outputs": [],
   "source": [
    "# Training set\n",
    "X_train_valid: np.ndarray\n",
    "y_train_valid: np.ndarray\n",
    "\n",
    "# Test set\n",
    "X_test: np.ndarray\n",
    "y_test: np.ndarray\n",
    "\n",
    "# Loading the dataset: https://www.tensorflow.org/api_docs/python/tf/keras/datasets/cifar10/load_data\n",
    "(X_train_valid, y_train_valid), (X_test, y_test) = tf.keras.datasets.cifar10.load_data()"
   ]
  },
  {
   "cell_type": "code",
   "execution_count": 3,
   "id": "5e83faab",
   "metadata": {},
   "outputs": [
    {
     "name": "stdout",
     "output_type": "stream",
     "text": [
      "Train set:\n",
      "  X_train: shape=(40000, 32, 32, 3), dtype=uint8\n",
      "  y_train: shape=(40000, 1), dtype=uint8\n",
      "\n",
      " Valid pset:\n",
      "  X_valid: shape=(10000, 32, 32, 3), dtype=uint8\n",
      "  y_valid: shape=(10000, 1), dtype=uint8\n",
      "\n",
      " Test set:\n",
      "  X_test:        shape=(10000, 32, 32, 3), dtype=uint8\n",
      "  y_test:        shape=(10000, 1), dtype=uint8\n"
     ]
    }
   ],
   "source": [
    "from sklearn.model_selection import train_test_split\n",
    "\n",
    "# Validation set\n",
    "X_valid: np.ndarray\n",
    "y_valid: np.ndarray\n",
    "\n",
    "# Create a valid set for models hyperparameters tuning\n",
    "X_train, X_valid, y_train, y_valid = train_test_split(\n",
    "    X_train_valid, y_train_valid, test_size=0.20, random_state=42)\n",
    "\n",
    "print(\"Train set:\")\n",
    "print(f\"  X_train: shape={X_train.shape}, dtype={X_train.dtype}\")\n",
    "print(f\"  y_train: shape={y_train.shape}, dtype={y_train.dtype}\")\n",
    "\n",
    "print(\"\\n Valid pset:\")\n",
    "print(f\"  X_valid: shape={X_valid.shape}, dtype={X_valid.dtype}\")\n",
    "print(f\"  y_valid: shape={y_valid.shape}, dtype={y_valid.dtype}\")\n",
    "\n",
    "print(\"\\n Test set:\")\n",
    "print(f\"  X_test:        shape={X_test.shape}, dtype={X_test.dtype}\")\n",
    "print(f\"  y_test:        shape={y_test.shape}, dtype={y_test.dtype}\")"
   ]
  },
  {
   "cell_type": "markdown",
   "id": "e6ddb021",
   "metadata": {},
   "source": [
    "# Data preparation\n",
    "* Get the map of labels\n",
    "* Get the valid set"
   ]
  },
  {
   "cell_type": "code",
   "execution_count": 4,
   "id": "0b240f1a",
   "metadata": {},
   "outputs": [
    {
     "name": "stdout",
     "output_type": "stream",
     "text": [
      "The list of unique label: [0, 1, 2, 3, 4, 5, 6, 7, 8, 9]\n",
      "The first labels in increasing order:[29, 4, 6, 9, 3, 27, 0, 7, 8, 1]\n"
     ]
    }
   ],
   "source": [
    "unique_labels: list[int] = list(np.unique(y_train_valid))\n",
    "print(f'The list of unique label: {unique_labels}')\n",
    "\n",
    "first_occurence_indices: list[int] = []\n",
    "\n",
    "# Get the list of index for the first labels\n",
    "for label in unique_labels:\n",
    "    for idx in range(len(y_train_valid)):\n",
    "        if y_train_valid[idx] == label:\n",
    "           first_occurence_indices.append(idx)\n",
    "           break\n",
    "print(f'The first labels in increasing order:{first_occurence_indices}')"
   ]
  },
  {
   "cell_type": "code",
   "execution_count": 5,
   "id": "3d220c6e",
   "metadata": {},
   "outputs": [
    {
     "name": "stdout",
     "output_type": "stream",
     "text": [
      "The map between label and class name: {0: 'airplane', 1: 'automobile', 2: 'bird', 3: 'cat', 4: 'deer', 5: 'dog', 6: 'frog', 7: 'horse', 8: 'ship', 9: 'truck'}\n"
     ]
    }
   ],
   "source": [
    "# https://www.cs.toronto.edu/~kriz/cifar.html\n",
    "CLASS_NAMES: list[str] = ['airplane', 'automobile', 'bird', 'cat', 'deer',\n",
    "               'dog', 'frog', 'horse', 'ship', 'truck']\n",
    "\n",
    "label_to_class: dict[int, str] = dict(zip(unique_labels, CLASS_NAMES))\n",
    "\n",
    "print(\"The map between label and class name:\", label_to_class)"
   ]
  },
  {
   "cell_type": "code",
   "execution_count": null,
   "id": "8ac4762d",
   "metadata": {},
   "outputs": [
    {
     "name": "stdout",
     "output_type": "stream",
     "text": [
      "horse\n"
     ]
    },
    {
     "data": {
      "image/png": "[encoded data removed]",
      "text/plain": [
       "<Figure size 640x480 with 1 Axes>"
      ]
     },
     "metadata": {},
     "output_type": "display_data"
    }
   ],
   "source": [
    "# TODO: print more pictures\n",
    "def print_class_plot_img(img_nbr:int)->None:\n",
    "    print(label_to_class[y_train_valid[img_nbr].item()])\n",
    "    plt.imshow(X_train_valid[img_nbr])\n",
    "\n",
    "print_class_plot_img(img_nbr = 7)"
   ]
  },
  {
   "cell_type": "markdown",
   "id": "33789006",
   "metadata": {},
   "source": [
    "**Note**: The images have a low resolution"
   ]
  },
  {
   "cell_type": "markdown",
   "id": "8fe81e1c",
   "metadata": {},
   "source": [
    "# Feature engineering\n",
    "* extract feature with pretrained models\n",
    "* compare features extracted at different levels\n",
    "* show top features by label"
   ]
  },
  {
   "cell_type": "markdown",
   "id": "3bda51cf",
   "metadata": {},
   "source": [
    "## Extact features from images\n",
    "- https://keras.io/examples/vision/image_classification_efficientnet_fine_tuning/\n",
    "- https://keras.io/api/applications/#extract-features-from-an-arbitrary-intermediate-layer-with-vgg19\n",
    "- https://keras.io/api/applications/#usage-examples-for-image-classification-models\n"
   ]
  },
  {
   "cell_type": "code",
   "execution_count": 7,
   "id": "3f55a8b8",
   "metadata": {},
   "outputs": [],
   "source": [
    "IMG_SIZE = 160 # origninal img size (32, 32, 3), optimal img size (224, 224, 3)"
   ]
  },
  {
   "cell_type": "markdown",
   "id": "4ef82e81",
   "metadata": {},
   "source": [
    "### Feature extractor"
   ]
  },
  {
   "cell_type": "code",
   "execution_count": null,
   "id": "aa2ac100",
   "metadata": {},
   "outputs": [
    {
     "name": "stdout",
     "output_type": "stream",
     "text": [
      "Type of feat_train: <class 'numpy.ndarray'>\n",
      "Shape of feat_train: (40000, 1280)\n",
      "Type of feat_valid: <class 'numpy.ndarray'>\n",
      "Shape of feat_valid: (10000, 1280)\n",
      "Type of feat_test: <class 'numpy.ndarray'>\n",
      "Shape of feat_test: (10000, 1280)\n"
     ]
    }
   ],
   "source": [
    "from tensorflow import keras\n",
    "from keras.applications import MobileNetV2\n",
    "from keras.applications.mobilenet_v2 import preprocess_input\n",
    "from keras.models import Model\n",
    "\n",
    "# Load the model without the fully connected layer \n",
    "backbone: Model = MobileNetV2(\n",
    "    weights=\"imagenet\", \n",
    "    include_top=False, pooling=\"avg\",\n",
    "    input_shape=(IMG_SIZE, IMG_SIZE, 3)\n",
    "    )\n",
    "backbone.trainable = False\n",
    "\n",
    "# Build the feature extractor\n",
    "# TODO: add angmenation layer:keras.layers.RandomTranslation etc\n",
    "feature_extractor: Model = tf.keras.Sequential()\n",
    "feature_extractor.add(keras.layers.Input(shape=(32, 32, 3), dtype=tf.uint8))\n",
    "feature_extractor.add(keras.layers.Resizing(IMG_SIZE, IMG_SIZE, interpolation=\"bilinear\"))\n",
    "feature_extractor.add(keras.layers.Lambda(lambda x: preprocess_input(tf.cast(x, tf.float32))))\n",
    "feature_extractor.add(backbone)\n",
    "\n",
    "# Extract features\n",
    "feat_train: np.ndarray = feature_extractor.predict(X_train, batch_size=256, verbose=0)  # (N_train, 1280)\n",
    "feat_valid: np.ndarray = feature_extractor.predict(X_valid, batch_size=256, verbose=0)  # (N_valid, 1280)\n",
    "feat_test: np.ndarray  = feature_extractor.predict(X_test,  batch_size=256, verbose=0)  # (N_test, 1280)\n",
    "\n",
    "# Debug prints\n",
    "print(\"Type of feat_train:\", type(feat_train))\n",
    "print(\"Shape of feat_train:\", feat_train.shape)\n",
    "print(\"feat_train dtype (expected: float32 by default):\", feat_train.dtype)\n",
    "\n",
    "print(\"Type of feat_valid:\", type(feat_valid))\n",
    "print(\"Shape of feat_valid:\", feat_valid.shape)\n",
    "print(\"feat_valid dtype (expected: float32 by default):\", feat_valid.dtype)\n",
    "\n",
    "print(\"Type of feat_test:\", type(feat_test))\n",
    "print(\"Shape of feat_test:\", feat_test.shape)\n",
    "print(\"feat_test dtype (expected: float32 by default):\", feat_train.dtype)"
   ]
  },
  {
   "cell_type": "markdown",
   "id": "48683439",
   "metadata": {},
   "source": [
    "### Save features"
   ]
  },
  {
   "cell_type": "code",
   "execution_count": 8,
   "id": "3d60f756",
   "metadata": {},
   "outputs": [],
   "source": [
    "from pathlib import Path\n",
    "\n",
    "# Path to ../features relative to current working directory\n",
    "features_dir: Path = (Path.cwd() / \"..\" / \"features\").resolve()\n",
    "features_dir.mkdir(exist_ok=True)"
   ]
  },
  {
   "cell_type": "code",
   "execution_count": null,
   "id": "e82e673b",
   "metadata": {},
   "outputs": [
    {
     "name": "stdout",
     "output_type": "stream",
     "text": [
      "Saved to: /mnt/c/Users/aelgu.adyx/Documents/unibe/m1_2_prj_cas_aml/features/mobilenetv2_160_features.npz\n"
     ]
    }
   ],
   "source": [
    "# Labels: flatten to 1-D\n",
    "y_train_1d: np.ndarray = np.asarray(y_train).ravel().astype(np.int64)\n",
    "y_valid_1d: np.ndarray = np.asarray(y_valid).ravel().astype(np.int64)\n",
    "y_test_1d:  np.ndarray = np.asarray(y_test).ravel().astype(np.int64)\n",
    "\n",
    "# Save the features and metadata as a single compressed NPZ\n",
    "out_path = features_dir / f\"mobilenetv2_{IMG_SIZE}_features.npz\"\n",
    "np.savez_compressed(\n",
    "    file = out_path,\n",
    "    feat_train=feat_train,\n",
    "    feat_valid=feat_valid,\n",
    "    feat_test=feat_test,\n",
    "    y_train=y_train_1d,\n",
    "    y_valid=y_valid_1d,\n",
    "    y_test=y_test_1d,\n",
    "    backbone=np.array([\"MobileNetV2\"], dtype=object),\n",
    "    img_size=np.array([IMG_SIZE], dtype=np.int32),\n",
    "    dtype=np.array([str(feat_train.dtype)], dtype=object),\n",
    ")\n",
    "print(\"Saved to:\", out_path)"
   ]
  },
  {
   "cell_type": "markdown",
   "id": "7b608ded",
   "metadata": {},
   "source": [
    "# Models training\n",
    "* Dummy classify\n",
    "* On the fly data augmentation\n",
    "* Baseline model: logistic regression\n",
    "* comparison with random forest\n",
    "* hyperparameter tuning: GridsearchCV"
   ]
  },
  {
   "cell_type": "markdown",
   "id": "f67edd0c",
   "metadata": {},
   "source": [
    "## Load features"
   ]
  },
  {
   "cell_type": "code",
   "execution_count": 9,
   "id": "a3e5b767",
   "metadata": {},
   "outputs": [
    {
     "name": "stdout",
     "output_type": "stream",
     "text": [
      "feat_train: (40000, 1280) float32\n",
      "feat_valid: (10000, 1280) float32\n",
      "feat_test : (10000, 1280) float32\n",
      "y_train  : (40000,) int64\n",
      "y_valid  : (10000,) int64\n",
      "y_test   : (10000,) int64\n"
     ]
    }
   ],
   "source": [
    "# Load features and labels from file\n",
    "bundle = np.load(features_dir / f\"mobilenetv2_{IMG_SIZE}_features.npz\", allow_pickle=True)\n",
    "\n",
    "# Take features (vectors) and labels\n",
    "feat_train = bundle[\"feat_train\"]\n",
    "feat_valid = bundle[\"feat_valid\"]\n",
    "feat_test  = bundle[\"feat_test\"]\n",
    "y_train_1d = bundle[\"y_train\"]\n",
    "y_valid_1d = bundle[\"y_valid\"]\n",
    "y_test_1d  = bundle[\"y_test\"]\n",
    "\n",
    "# Print shape and dtype for check\n",
    "print(\"feat_train:\", feat_train.shape, feat_train.dtype)\n",
    "print(\"feat_valid:\", feat_valid.shape, feat_valid.dtype)\n",
    "print(\"feat_test :\", feat_test.shape,  feat_test.dtype)\n",
    "print(\"y_train  :\", y_train_1d.shape, y_train_1d.dtype)\n",
    "print(\"y_valid  :\", y_valid_1d.shape, y_valid_1d.dtype)\n",
    "print(\"y_test   :\", y_test_1d.shape,  y_test_1d.dtype)"
   ]
  },
  {
   "cell_type": "markdown",
   "id": "944a3642",
   "metadata": {},
   "source": [
    "## Sklearn models"
   ]
  },
  {
   "cell_type": "markdown",
   "id": "6b2327cb",
   "metadata": {},
   "source": [
    "### Import sklearn packages"
   ]
  },
  {
   "cell_type": "code",
   "execution_count": 39,
   "id": "b60384eb",
   "metadata": {},
   "outputs": [],
   "source": [
    "from sklearn.metrics import classification_report, accuracy_score\n",
    "from sklearn.preprocessing import StandardScaler\n",
    "\n",
    "from sklearn.linear_model import LogisticRegression\n",
    "from sklearn.ensemble import RandomForestClassifier\n",
    "from sklearn.svm import LinearSVC\n",
    "from sklearn.dummy import DummyClassifier\n",
    "\n",
    "from sklearn.pipeline import make_pipeline\n",
    "from sklearn.pipeline import Pipeline"
   ]
  },
  {
   "cell_type": "markdown",
   "id": "dfe8b6d9",
   "metadata": {},
   "source": [
    "### Helper function"
   ]
  },
  {
   "cell_type": "code",
   "execution_count": 60,
   "id": "7f529158",
   "metadata": {},
   "outputs": [],
   "source": [
    "# TODO: update the annotation type\n",
    "def report(clf, X: np.ndarray, y: np.ndarray, name: str=\"Model\")->None:\n",
    "    # clf.fit(Xtr, ytr)\n",
    "    y_predicted = clf.predict(X)\n",
    "    print(f\"[{name}] Accuracy:\", accuracy_score(y, y_predicted))\n",
    "    print(classification_report(y, y_predicted, digits=4))\n",
    "    return None"
   ]
  },
  {
   "cell_type": "markdown",
   "id": "ba035ba6",
   "metadata": {},
   "source": [
    "### Dummy classifier"
   ]
  },
  {
   "cell_type": "code",
   "execution_count": 61,
   "id": "22dd6d15",
   "metadata": {},
   "outputs": [
    {
     "name": "stdout",
     "output_type": "stream",
     "text": [
      "[Dummy classifier] Accuracy: 0.1016\n",
      "              precision    recall  f1-score   support\n",
      "\n",
      "           0     0.0939    0.0956    0.0948       973\n",
      "           1     0.0908    0.0899    0.0903       979\n",
      "           2     0.0955    0.0942    0.0948      1030\n",
      "           3     0.1015    0.1017    0.1016      1023\n",
      "           4     0.1125    0.1190    0.1156       933\n",
      "           5     0.1104    0.1123    0.1113      1015\n",
      "           6     0.1007    0.1004    0.1006       996\n",
      "           7     0.0958    0.0966    0.0962       994\n",
      "           8     0.1197    0.1121    0.1158      1017\n",
      "           9     0.0958    0.0952    0.0955      1040\n",
      "\n",
      "    accuracy                         0.1016     10000\n",
      "   macro avg     0.1017    0.1017    0.1016     10000\n",
      "weighted avg     0.1016    0.1016    0.1016     10000\n",
      "\n"
     ]
    }
   ],
   "source": [
    "# TODO: add the annotation type\n",
    "# Create a baseline with dummy classifier to compare with other models\n",
    "# The uniform strategy: ignores the data and just picks a label at random, with equal probability for each class.\n",
    "dummy_clf: DummyClassifier  = DummyClassifier(strategy=\"uniform\") \n",
    "dummy_clf.fit(feat_train, y_train_1d)\n",
    "\n",
    "# Evaluate on validation features (2D)\n",
    "report(\n",
    "    clf=dummy_clf,\n",
    "    X=feat_valid, \n",
    "    y=y_valid_1d,\n",
    "    name=\"Dummy classifier\"\n",
    ")"
   ]
  },
  {
   "cell_type": "markdown",
   "id": "cf36c505",
   "metadata": {},
   "source": [
    "**Note**: \n",
    "* Any models that actually learns should beat the current performance.\n",
    "* The classes are well balanced. They are all very close to the 1/10."
   ]
  },
  {
   "cell_type": "markdown",
   "id": "b3240e23",
   "metadata": {},
   "source": [
    "### Logistic regression"
   ]
  },
  {
   "cell_type": "code",
   "execution_count": 37,
   "id": "f2c946dc",
   "metadata": {},
   "outputs": [
    {
     "name": "stdout",
     "output_type": "stream",
     "text": [
      "[Logistic Regression] Accuracy: 0.8272\n",
      "              precision    recall  f1-score   support\n",
      "\n",
      "           0     0.8325    0.8273    0.8299       973\n",
      "           1     0.9079    0.9162    0.9120       979\n",
      "           2     0.8024    0.7689    0.7853      1030\n",
      "           3     0.7216    0.7019    0.7116      1023\n",
      "           4     0.7639    0.8114    0.7869       933\n",
      "           5     0.7740    0.7557    0.7647      1015\n",
      "           6     0.8634    0.8695    0.8664       996\n",
      "           7     0.8312    0.8370    0.8341       994\n",
      "           8     0.8790    0.8859    0.8825      1017\n",
      "           9     0.8907    0.9010    0.8958      1040\n",
      "\n",
      "    accuracy                         0.8272     10000\n",
      "   macro avg     0.8267    0.8275    0.8269     10000\n",
      "weighted avg     0.8268    0.8272    0.8269     10000\n",
      "\n"
     ]
    }
   ],
   "source": [
    "# Logistic Regression (multiclass) + standardization\n",
    "lr_clf: Pipeline = make_pipeline(\n",
    "    StandardScaler(),  # scale features improves LR convergence\n",
    "    LogisticRegression(\n",
    "        penalty=\"l2\",\n",
    "        C=1.0,\n",
    "        solver=\"lbfgs\",          # supports multinomial + n_jobs\n",
    "        max_iter=500,\n",
    "        n_jobs=-1,\n",
    "        random_state=42,\n",
    "    )\n",
    ")\n",
    "\n",
    "# Train on feature vectors (2D)\n",
    "lr_clf.fit(feat_train, y_train_1d)\n",
    "\n",
    "# Evaluate on validation features (2D)\n",
    "report(\n",
    "    clf=lr_clf,\n",
    "    X=feat_valid, \n",
    "    y=y_valid_1d,\n",
    "    name=\"Logistic Regression\"\n",
    ")"
   ]
  },
  {
   "cell_type": "markdown",
   "id": "627f505f",
   "metadata": {},
   "source": [
    "### Random forest"
   ]
  },
  {
   "cell_type": "code",
   "execution_count": 40,
   "id": "6523f839",
   "metadata": {},
   "outputs": [
    {
     "name": "stdout",
     "output_type": "stream",
     "text": [
      "[Random forest] Accuracy: 0.8184\n",
      "              precision    recall  f1-score   support\n",
      "\n",
      "           0     0.8172    0.8088    0.8130       973\n",
      "           1     0.8943    0.9244    0.9091       979\n",
      "           2     0.8513    0.7282    0.7849      1030\n",
      "           3     0.6733    0.6911    0.6821      1023\n",
      "           4     0.7405    0.8167    0.7768       933\n",
      "           5     0.7765    0.7360    0.7557      1015\n",
      "           6     0.8669    0.8896    0.8781       996\n",
      "           7     0.8326    0.8058    0.8190       994\n",
      "           8     0.8427    0.8958    0.8684      1017\n",
      "           9     0.8940    0.8923    0.8932      1040\n",
      "\n",
      "    accuracy                         0.8184     10000\n",
      "   macro avg     0.8190    0.8189    0.8180     10000\n",
      "weighted avg     0.8193    0.8184    0.8180     10000\n",
      "\n"
     ]
    }
   ],
   "source": [
    "# Random Forest classifier\n",
    "rf_clf: RandomForestClassifier = RandomForestClassifier(\n",
    "    n_estimators=300,      # number of trees\n",
    "    max_depth=None,        # let trees expand fully (or set e.g. 20)\n",
    "    min_samples_split=2,\n",
    "    min_samples_leaf=1,\n",
    "    max_features=\"sqrt\",   # good default for classification\n",
    "    bootstrap=True,\n",
    "    n_jobs=-1,             # use all cores\n",
    "    random_state=42,\n",
    ")\n",
    "\n",
    "# Train on feature vectors\n",
    "rf_clf.fit(feat_train, y_train_1d)\n",
    "\n",
    "# Evaluate on valid features\n",
    "report(clf=rf_clf, \n",
    "       X=feat_valid, \n",
    "       y=y_valid_1d, \n",
    "       name=\"Random forest\")"
   ]
  },
  {
   "cell_type": "markdown",
   "id": "4f5ad1b6",
   "metadata": {},
   "source": [
    "### SVM"
   ]
  },
  {
   "cell_type": "code",
   "execution_count": null,
   "id": "a6cf4210",
   "metadata": {},
   "outputs": [
    {
     "name": "stdout",
     "output_type": "stream",
     "text": [
      "[SVM] Accuracy: 0.8429\n",
      "              precision    recall  f1-score   support\n",
      "\n",
      "           0     0.8422    0.8499    0.8460       973\n",
      "           1     0.8805    0.9030    0.8916       979\n",
      "           2     0.8545    0.7922    0.8222      1030\n",
      "           3     0.7485    0.7185    0.7332      1023\n",
      "           4     0.7973    0.8349    0.8157       933\n",
      "           5     0.8032    0.7842    0.7936      1015\n",
      "           6     0.8898    0.8996    0.8947       996\n",
      "           7     0.8516    0.8773    0.8642       994\n",
      "           8     0.8841    0.8850    0.8845      1017\n",
      "           9     0.8717    0.8885    0.8800      1040\n",
      "\n",
      "    accuracy                         0.8429     10000\n",
      "   macro avg     0.8423    0.8433    0.8426     10000\n",
      "weighted avg     0.8425    0.8429    0.8424     10000\n",
      "\n"
     ]
    }
   ],
   "source": [
    "svm_clf: Pipeline = make_pipeline(\n",
    "    StandardScaler(),\n",
    "    LinearSVC(dual=False, C=1.0, max_iter=5000, random_state=42)\n",
    ")\n",
    "\n",
    "svm_clf.fit(feat_train, y_train_1d)\n",
    "\n",
    "# Evaluate on valid features\n",
    "report(clf=svm_clf, \n",
    "       X=feat_valid, \n",
    "       y=y_valid_1d, \n",
    "       name=\"SVM\")"
   ]
  },
  {
   "cell_type": "markdown",
   "id": "c0cd3435",
   "metadata": {},
   "source": [
    "## Tensorflow/keras models\n"
   ]
  },
  {
   "cell_type": "markdown",
   "id": "b398eb51",
   "metadata": {},
   "source": [
    "### Import tensorflow/keras packages"
   ]
  },
  {
   "cell_type": "code",
   "execution_count": 16,
   "id": "06ec9e86",
   "metadata": {},
   "outputs": [],
   "source": [
    "import tensorflow as tf\n",
    "\n",
    "keras = tf.keras\n",
    "layers = keras.layers\n",
    "regularizers = keras.regularizers\n",
    "callbacks = keras.callbacks\n",
    "\n",
    "# from tensorflow import keras\n",
    "# from tensorflow.python.keras import layers, regularizers, callbacks\n",
    "\n",
    "# from tensorflow import keras\n",
    "# from tensorflow.keras import layers, regularizers, callbacks\n"
   ]
  },
  {
   "cell_type": "markdown",
   "id": "c405746c",
   "metadata": {},
   "source": [
    "### Dense model"
   ]
  },
  {
   "cell_type": "code",
   "execution_count": 17,
   "id": "1c0a8ba4",
   "metadata": {},
   "outputs": [
    {
     "name": "stderr",
     "output_type": "stream",
     "text": [
      "2025-09-17 11:17:48.928685: I tensorflow/core/common_runtime/process_util.cc:146] Creating new thread pool with default inter op setting: 2. Tune using inter_op_parallelism_threads for best performance.\n"
     ]
    },
    {
     "name": "stdout",
     "output_type": "stream",
     "text": [
      "Epoch 1/150\n",
      "157/157 [==============================] - 15s 69ms/step - loss: 2.1417 - accuracy: 0.4814 - val_loss: 1.1919 - val_accuracy: 0.8023 - lr: 0.0010\n",
      "Epoch 2/150\n",
      "157/157 [==============================] - 7s 44ms/step - loss: 1.3050 - accuracy: 0.7557 - val_loss: 0.9913 - val_accuracy: 0.8403 - lr: 0.0010\n",
      "Epoch 3/150\n",
      "157/157 [==============================] - 9s 59ms/step - loss: 1.1427 - accuracy: 0.7960 - val_loss: 0.9108 - val_accuracy: 0.8512 - lr: 0.0010\n",
      "Epoch 4/150\n",
      "157/157 [==============================] - 11s 67ms/step - loss: 1.0379 - accuracy: 0.8093 - val_loss: 0.8388 - val_accuracy: 0.8559 - lr: 0.0010\n",
      "Epoch 5/150\n",
      "157/157 [==============================] - 6s 41ms/step - loss: 0.9567 - accuracy: 0.8210 - val_loss: 0.7936 - val_accuracy: 0.8533 - lr: 0.0010\n",
      "Epoch 6/150\n",
      "157/157 [==============================] - 9s 58ms/step - loss: 0.8979 - accuracy: 0.8251 - val_loss: 0.7320 - val_accuracy: 0.8612 - lr: 0.0010\n",
      "Epoch 7/150\n",
      "157/157 [==============================] - 9s 59ms/step - loss: 0.8421 - accuracy: 0.8295 - val_loss: 0.6994 - val_accuracy: 0.8609 - lr: 0.0010\n",
      "Epoch 8/150\n",
      "157/157 [==============================] - 10s 65ms/step - loss: 0.8044 - accuracy: 0.8323 - val_loss: 0.6659 - val_accuracy: 0.8643 - lr: 0.0010\n",
      "Epoch 9/150\n",
      "157/157 [==============================] - 9s 57ms/step - loss: 0.7695 - accuracy: 0.8325 - val_loss: 0.6361 - val_accuracy: 0.8665 - lr: 0.0010\n",
      "Epoch 10/150\n",
      "157/157 [==============================] - 8s 51ms/step - loss: 0.7430 - accuracy: 0.8375 - val_loss: 0.6232 - val_accuracy: 0.8653 - lr: 0.0010\n",
      "Epoch 11/150\n",
      "157/157 [==============================] - 8s 52ms/step - loss: 0.7202 - accuracy: 0.8379 - val_loss: 0.5979 - val_accuracy: 0.8670 - lr: 0.0010\n",
      "Epoch 12/150\n",
      "157/157 [==============================] - 6s 39ms/step - loss: 0.7021 - accuracy: 0.8425 - val_loss: 0.6019 - val_accuracy: 0.8655 - lr: 0.0010\n",
      "Epoch 13/150\n",
      "157/157 [==============================] - 9s 56ms/step - loss: 0.6920 - accuracy: 0.8410 - val_loss: 0.5807 - val_accuracy: 0.8710 - lr: 0.0010\n",
      "Epoch 14/150\n",
      "157/157 [==============================] - 15s 97ms/step - loss: 0.6862 - accuracy: 0.8427 - val_loss: 0.5861 - val_accuracy: 0.8664 - lr: 0.0010\n",
      "Epoch 15/150\n",
      "157/157 [==============================] - 11s 69ms/step - loss: 0.6783 - accuracy: 0.8453 - val_loss: 0.5714 - val_accuracy: 0.8716 - lr: 0.0010\n",
      "Epoch 16/150\n",
      "157/157 [==============================] - 12s 75ms/step - loss: 0.6688 - accuracy: 0.8451 - val_loss: 0.5640 - val_accuracy: 0.8725 - lr: 0.0010\n",
      "Epoch 17/150\n",
      "157/157 [==============================] - 11s 73ms/step - loss: 0.6637 - accuracy: 0.8487 - val_loss: 0.5623 - val_accuracy: 0.8729 - lr: 0.0010\n",
      "Epoch 18/150\n",
      "157/157 [==============================] - 9s 54ms/step - loss: 0.6610 - accuracy: 0.8500 - val_loss: 0.5669 - val_accuracy: 0.8690 - lr: 0.0010\n",
      "Epoch 19/150\n",
      "157/157 [==============================] - 13s 84ms/step - loss: 0.6614 - accuracy: 0.8479 - val_loss: 0.5594 - val_accuracy: 0.8731 - lr: 0.0010\n",
      "Epoch 20/150\n",
      "157/157 [==============================] - 9s 56ms/step - loss: 0.6614 - accuracy: 0.8470 - val_loss: 0.5778 - val_accuracy: 0.8681 - lr: 0.0010\n",
      "Epoch 21/150\n",
      "156/157 [============================>.] - ETA: 0s - loss: 0.6534 - accuracy: 0.8482\n",
      "Epoch 21: ReduceLROnPlateau reducing learning rate to 0.0005000000237487257.\n",
      "157/157 [==============================] - 11s 68ms/step - loss: 0.6536 - accuracy: 0.8480 - val_loss: 0.5824 - val_accuracy: 0.8661 - lr: 0.0010\n",
      "Epoch 22/150\n",
      "157/157 [==============================] - 12s 76ms/step - loss: 0.6243 - accuracy: 0.8568 - val_loss: 0.5396 - val_accuracy: 0.8770 - lr: 5.0000e-04\n",
      "Epoch 23/150\n",
      "157/157 [==============================] - 8s 49ms/step - loss: 0.5990 - accuracy: 0.8610 - val_loss: 0.5300 - val_accuracy: 0.8780 - lr: 5.0000e-04\n",
      "Epoch 24/150\n",
      "157/157 [==============================] - 18s 111ms/step - loss: 0.5857 - accuracy: 0.8642 - val_loss: 0.5225 - val_accuracy: 0.8777 - lr: 5.0000e-04\n",
      "Epoch 25/150\n",
      "157/157 [==============================] - 16s 101ms/step - loss: 0.5755 - accuracy: 0.8655 - val_loss: 0.5127 - val_accuracy: 0.8807 - lr: 5.0000e-04\n",
      "Epoch 26/150\n",
      "157/157 [==============================] - 16s 103ms/step - loss: 0.5738 - accuracy: 0.8645 - val_loss: 0.5206 - val_accuracy: 0.8729 - lr: 5.0000e-04\n",
      "Epoch 27/150\n",
      "115/157 [====================>.........] - ETA: 3s - loss: 0.5569 - accuracy: 0.8698\n",
      "Epoch 27: ReduceLROnPlateau reducing learning rate to 0.0002500000118743628.\n",
      "157/157 [==============================] - 9s 60ms/step - loss: 0.5617 - accuracy: 0.8689 - val_loss: 0.5085 - val_accuracy: 0.8789 - lr: 5.0000e-04\n",
      "Epoch 28/150\n",
      "157/157 [==============================] - 13s 86ms/step - loss: 0.5486 - accuracy: 0.8698 - val_loss: 0.4956 - val_accuracy: 0.8806 - lr: 2.5000e-04\n",
      "Test accuracy: 0.8741999864578247\n"
     ]
    }
   ],
   "source": [
    "l2: float = 5e-4\n",
    "\n",
    "# Fully connected classifier model (feedforward)\n",
    "fc_clf: keras.Sequential = keras.Sequential([\n",
    "    keras.Input(shape=(feat_train.shape[1],)),\n",
    "\n",
    "    layers.Dropout(0.25), # TODO: is it necessary?\n",
    "\n",
    "    layers.Dense(256, use_bias=False, kernel_regularizer=regularizers.l2(l2)),\n",
    "    layers.BatchNormalization(),\n",
    "    layers.Activation(\"relu\"),\n",
    "    layers.Dropout(0.5),\n",
    "\n",
    "    layers.Dense(256, use_bias=False, kernel_regularizer=regularizers.l2(l2)),\n",
    "    layers.BatchNormalization(),\n",
    "    layers.Activation(\"relu\"),\n",
    "    layers.Dropout(0.5),\n",
    "    \n",
    "    layers.Dense(256, use_bias=False, kernel_regularizer=regularizers.l2(l2)),\n",
    "    layers.BatchNormalization(),\n",
    "    layers.Activation(\"relu\"),\n",
    "    layers.Dropout(0.5),\n",
    "    \n",
    "    layers.Dense(256, use_bias=False, kernel_regularizer=regularizers.l2(l2)),\n",
    "    layers.BatchNormalization(),\n",
    "    layers.Activation(\"relu\"),\n",
    "    layers.Dropout(0.5),\n",
    "\n",
    "    layers.Dense(10, activation=\"softmax\"),\n",
    "])\n",
    "\n",
    "fc_clf.compile(optimizer=keras.optimizers.Adam(1e-3),\n",
    "              loss=\"sparse_categorical_crossentropy\",\n",
    "              metrics=[\"accuracy\"])\n",
    "\n",
    "# TODO: explain\n",
    "cbs: list = [\n",
    "    callbacks.ReduceLROnPlateau(monitor=\"val_accuracy\", factor=0.5, patience=2, min_lr=1e-5, verbose=1),\n",
    "    callbacks.EarlyStopping(monitor=\"val_accuracy\", patience=3, restore_best_weights=True),\n",
    "]\n",
    "\n",
    "history: keras.callbacks.History = fc_clf.fit(\n",
    "    feat_train, y_train_1d,\n",
    "    validation_data=(feat_valid, y_valid_1d),  # use real validation set\n",
    "    epochs=150,\n",
    "    batch_size=256,\n",
    "    callbacks=cbs,\n",
    "    verbose=1,\n",
    ")\n",
    "\n",
    "\n",
    "print(\"Test accuracy:\", fc_clf.evaluate(feat_test, y_test_1d, verbose=0)[1])"
   ]
  },
  {
   "cell_type": "code",
   "execution_count": null,
   "id": "ddb0007d",
   "metadata": {},
   "outputs": [
    {
     "data": {
      "text/plain": [
       "<matplotlib.legend.Legend at 0x7f81d051cb90>"
      ]
     },
     "execution_count": 18,
     "metadata": {},
     "output_type": "execute_result"
    },
    {
     "data": {
      "image/png": "[encoded data removed]",
      "text/plain": [
       "<Figure size 640x480 with 1 Axes>"
      ]
     },
     "metadata": {},
     "output_type": "display_data"
    }
   ],
   "source": [
    "# TODO: plot in parallel\n",
    "plt.plot(history.history['accuracy'], label='accuracy')\n",
    "plt.plot(history.history['val_accuracy'], label = 'val_accuracy')\n",
    "plt.xlabel('Epoch')\n",
    "plt.ylabel('Accuracy')\n",
    "plt.ylim([0.5, 1])\n",
    "plt.legend(loc='lower right')\n",
    "\n",
    "# test_loss, test_acc = model.evaluate(test_images,  test_labels, verbose=2)"
   ]
  },
  {
   "cell_type": "code",
   "execution_count": 19,
   "id": "378abd4e",
   "metadata": {},
   "outputs": [
    {
     "data": {
      "text/plain": [
       "<matplotlib.legend.Legend at 0x7f81d38f7150>"
      ]
     },
     "execution_count": 19,
     "metadata": {},
     "output_type": "execute_result"
    },
    {
     "data": {
      "image/png": "[encoded data removed]",
      "text/plain": [
       "<Figure size 640x480 with 1 Axes>"
      ]
     },
     "metadata": {},
     "output_type": "display_data"
    }
   ],
   "source": [
    "plt.plot(history.history['loss'], label='loss')\n",
    "plt.plot(history.history['val_loss'], label = 'val_loss')\n",
    "plt.xlabel('Epoch')\n",
    "plt.ylabel('Loss')\n",
    "plt.ylim([0.4, 1.6])\n",
    "plt.legend(loc='lower right')"
   ]
  },
  {
   "cell_type": "code",
   "execution_count": null,
   "id": "97812e92",
   "metadata": {},
   "outputs": [
    {
     "name": "stdout",
     "output_type": "stream",
     "text": [
      "Test accuracy (recomputed): 0.8807\n",
      "              precision    recall  f1-score   support\n",
      "\n",
      "    airplane     0.9020    0.8798    0.8907       973\n",
      "  automobile     0.9265    0.9530    0.9396       979\n",
      "        bird     0.8896    0.8369    0.8624      1030\n",
      "         cat     0.7512    0.7967    0.7732      1023\n",
      "        deer     0.8314    0.8671    0.8489       933\n",
      "         dog     0.8556    0.7882    0.8205      1015\n",
      "        frog     0.9126    0.9227    0.9176       996\n",
      "       horse     0.9074    0.8974    0.9024       994\n",
      "        ship     0.9036    0.9499    0.9262      1017\n",
      "       truck     0.9335    0.9183    0.9258      1040\n",
      "\n",
      "    accuracy                         0.8807     10000\n",
      "   macro avg     0.8814    0.8810    0.8807     10000\n",
      "weighted avg     0.8814    0.8807    0.8806     10000\n",
      "\n"
     ]
    }
   ],
   "source": [
    "# Predict class indices\n",
    "# TODO: change code and use trained mdoel to predict\n",
    "y_prob = fc_clf.predict(feat_valid, batch_size=1024, verbose=0)\n",
    "y_pred_fc = np.argmax(y_prob, axis=1)\n",
    "\n",
    "# (optional) CIFAR-10 class names\n",
    "CLASS_NAMES = [\"airplane\",\"automobile\",\"bird\",\"cat\",\"deer\",\n",
    "               \"dog\",\"frog\",\"horse\",\"ship\",\"truck\"]\n",
    "\n",
    "print(\"Test accuracy (recomputed):\", accuracy_score(y_valid_1d, y_pred_fc))\n",
    "print(classification_report(y_valid_1d, y_pred_fc, digits=4, target_names=CLASS_NAMES))\n"
   ]
  },
  {
   "cell_type": "code",
   "execution_count": 62,
   "id": "2c013e6c",
   "metadata": {},
   "outputs": [
    {
     "name": "stdout",
     "output_type": "stream",
     "text": [
      "Test accuracy (recomputed): 0.8742\n",
      "              precision    recall  f1-score   support\n",
      "\n",
      "    airplane     0.8992    0.8740    0.8864      1000\n",
      "  automobile     0.9214    0.9380    0.9296      1000\n",
      "        bird     0.8550    0.8490    0.8520      1000\n",
      "         cat     0.7474    0.7870    0.7667      1000\n",
      "        deer     0.8413    0.8320    0.8366      1000\n",
      "         dog     0.8612    0.7940    0.8262      1000\n",
      "        frog     0.8930    0.9260    0.9092      1000\n",
      "       horse     0.9110    0.8800    0.8952      1000\n",
      "        ship     0.8929    0.9420    0.9168      1000\n",
      "       truck     0.9246    0.9200    0.9223      1000\n",
      "\n",
      "    accuracy                         0.8742     10000\n",
      "   macro avg     0.8747    0.8742    0.8741     10000\n",
      "weighted avg     0.8747    0.8742    0.8741     10000\n",
      "\n"
     ]
    }
   ],
   "source": [
    "# Predict class indices\n",
    "y_prob = fc_clf.predict(feat_test, batch_size=1024, verbose=0)\n",
    "y_pred_fc = np.argmax(y_prob, axis=1)\n",
    "\n",
    "# (optional) CIFAR-10 class names\n",
    "CLASS_NAMES = [\"airplane\",\"automobile\",\"bird\",\"cat\",\"deer\",\n",
    "               \"dog\",\"frog\",\"horse\",\"ship\",\"truck\"]\n",
    "\n",
    "print(\"Test accuracy (recomputed):\", accuracy_score(y_test_1d, y_pred_fc))\n",
    "print(classification_report(y_test_1d, y_pred_fc, digits=4, target_names=CLASS_NAMES))"
   ]
  },
  {
   "cell_type": "markdown",
   "id": "940ffe22",
   "metadata": {},
   "source": [
    "# Results and interpretations"
   ]
  },
  {
   "cell_type": "markdown",
   "id": "11db6ca0",
   "metadata": {},
   "source": []
  },
  {
   "cell_type": "markdown",
   "id": "334e92b7",
   "metadata": {},
   "source": [
    "## Error analysis"
   ]
  },
  {
   "cell_type": "code",
   "execution_count": 64,
   "id": "cd08a8ec",
   "metadata": {},
   "outputs": [
    {
     "name": "stdout",
     "output_type": "stream",
     "text": [
      "{'airplane': {'precision': 0.8991769547325102, 'recall': 0.874, 'f1-score': 0.8864097363083164, 'support': 1000.0}, 'automobile': {'precision': 0.9214145383104125, 'recall': 0.938, 'f1-score': 0.929633300297324, 'support': 1000.0}, 'bird': {'precision': 0.8549848942598187, 'recall': 0.849, 'f1-score': 0.8519819367787256, 'support': 1000.0}, 'cat': {'precision': 0.7473884140550807, 'recall': 0.787, 'f1-score': 0.76668290306868, 'support': 1000.0}, 'deer': {'precision': 0.8412537917087968, 'recall': 0.832, 'f1-score': 0.8366013071895425, 'support': 1000.0}, 'dog': {'precision': 0.8611713665943601, 'recall': 0.794, 'f1-score': 0.826222684703434, 'support': 1000.0}, 'frog': {'precision': 0.892960462873674, 'recall': 0.926, 'f1-score': 0.9091801669121257, 'support': 1000.0}, 'horse': {'precision': 0.9109730848861284, 'recall': 0.88, 'f1-score': 0.8952187182095626, 'support': 1000.0}, 'ship': {'precision': 0.8928909952606635, 'recall': 0.942, 'f1-score': 0.9167883211678832, 'support': 1000.0}, 'truck': {'precision': 0.9246231155778895, 'recall': 0.92, 'f1-score': 0.9223057644110275, 'support': 1000.0}, 'accuracy': 0.8742, 'macro avg': {'precision': 0.8746837618259334, 'recall': 0.8742000000000001, 'f1-score': 0.8741024839046622, 'support': 10000.0}, 'weighted avg': {'precision': 0.8746837618259334, 'recall': 0.8742, 'f1-score': 0.874102483904662, 'support': 10000.0}}\n",
      "Error rate per class:\n",
      "airplane: 0.1260\n",
      "automobile: 0.0620\n",
      "bird: 0.1510\n",
      "cat: 0.2130\n",
      "deer: 0.1680\n",
      "dog: 0.2060\n",
      "frog: 0.0740\n",
      "horse: 0.1200\n",
      "ship: 0.0580\n",
      "truck: 0.0800\n"
     ]
    }
   ],
   "source": [
    "# Results form the best model\n",
    "report_dict = classification_report(\n",
    "    y_test_1d, y_pred_fc,\n",
    "    digits=4,\n",
    "    target_names=CLASS_NAMES,\n",
    "    output_dict=True\n",
    ")\n",
    "\n",
    "print(report_dict)\n",
    "\n",
    "\n",
    "error_rates = {}\n",
    "for cls in CLASS_NAMES:\n",
    "    recall = report_dict[cls][\"recall\"]     # per-class recall = correct/total for that class\n",
    "    error_rates[cls] = 1.0 - recall\n",
    "\n",
    "print(\"Error rate per class:\")\n",
    "for cls in CLASS_NAMES:\n",
    "    print(f\"{cls}: {error_rates[cls]:.4f}\")"
   ]
  },
  {
   "cell_type": "code",
   "execution_count": 65,
   "id": "c8796eb7",
   "metadata": {},
   "outputs": [
    {
     "data": {
      "image/png": "[encoded data removed]",
      "text/plain": [
       "<Figure size 800x500 with 1 Axes>"
      ]
     },
     "metadata": {},
     "output_type": "display_data"
    }
   ],
   "source": [
    "# Sort error_rates by value (descending)\n",
    "sorted_items = sorted(error_rates.items(), key=lambda x: x[1], reverse=True)\n",
    "\n",
    "# Unpack keys and values\n",
    "classes_sorted = [cls for cls, _ in sorted_items]\n",
    "errors_sorted  = [err for _, err in sorted_items]\n",
    "\n",
    "# Plot\n",
    "plt.figure(figsize=(8, 5))\n",
    "plt.bar(classes_sorted, errors_sorted)\n",
    "plt.xticks(rotation=45)\n",
    "plt.ylabel(\"Error Rate\")\n",
    "plt.title(\"Per-Class Error Rates (sorted)\")\n",
    "plt.show()"
   ]
  }
 ],
 "metadata": {
  "kernelspec": {
   "display_name": "tf",
   "language": "python",
   "name": "python3"
  },
  "language_info": {
   "codemirror_mode": {
    "name": "ipython",
    "version": 3
   },
   "file_extension": ".py",
   "mimetype": "text/x-python",
   "name": "python",
   "nbconvert_exporter": "python",
   "pygments_lexer": "ipython3",
   "version": "3.11.5"
  }
 },
 "nbformat": 4,
 "nbformat_minor": 5
}

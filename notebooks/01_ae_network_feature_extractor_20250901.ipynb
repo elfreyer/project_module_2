{
 "cells": [
  {
   "cell_type": "markdown",
   "id": "a7f22ecb",
   "metadata": {},
   "source": [
    "\n",
    "# CIFAR-10 Dataset\n",
    "\n",
    "- CIFAR-10 is a well-known benchmark dataset in computer vision.  \n",
    "- It contains 60,000 color images, each of size 32×32 pixels.  \n",
    "- There are 10 classes: airplane, automobile, bird, cat, deer, dog, frog, horse, ship, and truck.  \n",
    "- The dataset is split into:\n",
    "  - 50,000 training images\n",
    "  - 10,000 test images\n",
    "\n",
    "---\n",
    "\n",
    "## Machine Learning Problem\n",
    "\n",
    "- **Type**: Supervised image classification  \n",
    "- **Task**: Learn to map image pixels to one of the 10 class labels.  \n",
    "- **Goal**: Train a model that correctly predicts the class of unseen test images.  \n",
    "- **Challenge**:  \n",
    "  - Low resolution makes feature extraction harder.  \n",
    "  - Some classes are visually similar (e.g., cat vs. dog, truck vs. automobile).  \n",
    "- **Use case for feature extractors**: Models can be trained to extract meaningful features from the images, which can then be used for classification or transferred to other tasks.\n",
    "\n",
    "## Pretrained Models\n",
    "\n",
    "- In TensorFlow (via `tf.keras.applications`), pretrained models are trained on **ImageNet** (1.2M images, 1000 classes).  \n",
    "- Popular choices include **MobileNetV2**, **EfficientNet**, **ResNet50**, and **InceptionV3**.  \n",
    "- These models expect **larger input sizes** (usually 224×224 pixels or higher).  \n",
    "  - To use them with CIFAR-10 (32×32), images must be **resized** to match the model’s expected input.  \n",
    "- Each model comes with a dedicated `preprocess_input` function that prepares images (scaling and normalization) consistently with how the model was trained.  \n",
    "- When used as **feature extractors**, we remove the final classification layer and keep the intermediate representation (embedding).  \n",
    "  - These embeddings capture **general visual patterns** (edges, textures, object parts) learned from ImageNet.  \n",
    "  - They can then be used to train a **new classifier** on CIFAR-10, or compared with **classical models** like Logistic Regression, SVM, kNN, or Random Forest.  \n",
    "\n",
    "### Why use pretrained models?\n",
    "- **Faster convergence**: We start from general-purpose vision features instead of random weights.  \n",
    "- **Better accuracy**: Even though CIFAR-10 is small, ImageNet-pretrained features transfer well.  \n",
    "- **Flexibility**: Embeddings can be reused for other datasets or tasks beyond CIFAR-10.  \n",
    "\n",
    "---\n",
    "\n"
   ]
  },
  {
   "cell_type": "markdown",
   "id": "67a734fa",
   "metadata": {},
   "source": [
    " # Import the packages"
   ]
  },
  {
   "cell_type": "code",
   "execution_count": 1,
   "id": "1a9457a4",
   "metadata": {},
   "outputs": [
    {
     "name": "stderr",
     "output_type": "stream",
     "text": [
      "2025-09-06 09:50:32.818952: I tensorflow/core/platform/cpu_feature_guard.cc:182] This TensorFlow binary is optimized to use available CPU instructions in performance-critical operations.\n",
      "To enable the following instructions: SSE4.1 SSE4.2 AVX AVX2 AVX_VNNI FMA, in other operations, rebuild TensorFlow with the appropriate compiler flags.\n"
     ]
    }
   ],
   "source": [
    "# Standard library\n",
    "import numpy as np\n",
    "import tensorflow as tf\n",
    "import matplotlib.pyplot as plt\n",
    "\n",
    "# Magic command\n",
    "%matplotlib inline\n"
   ]
  },
  {
   "cell_type": "markdown",
   "id": "ff18c872",
   "metadata": {},
   "source": [
    "# Loading the dataset"
   ]
  },
  {
   "cell_type": "code",
   "execution_count": 2,
   "id": "d01a3f95",
   "metadata": {},
   "outputs": [],
   "source": [
    "# Training set\n",
    "X_train_valid: np.ndarray\n",
    "y_train_valid: np.ndarray\n",
    "\n",
    "# Test set\n",
    "X_test: np.ndarray\n",
    "y_test: np.ndarray\n",
    "\n",
    "# Loading the dataset: https://www.tensorflow.org/api_docs/python/tf/keras/datasets/cifar10/load_data\n",
    "(X_train_valid, y_train_valid), (X_test, y_test) = tf.keras.datasets.cifar10.load_data()"
   ]
  },
  {
   "cell_type": "code",
   "execution_count": 4,
   "id": "5e83faab",
   "metadata": {},
   "outputs": [
    {
     "name": "stdout",
     "output_type": "stream",
     "text": [
      "Train set:\n",
      "  X_train: shape=(40000, 32, 32, 3), dtype=uint8\n",
      "  y_train: shape=(40000, 1), dtype=uint8\n",
      "\n",
      " Valid pset:\n",
      "  X_valid: shape=(10000, 32, 32, 3), dtype=uint8\n",
      "  y_valid: shape=(10000, 1), dtype=uint8\n",
      "\n",
      " Test set:\n",
      "  X_test:        shape=(10000, 32, 32, 3), dtype=uint8\n",
      "  y_test:        shape=(10000, 1), dtype=uint8\n"
     ]
    }
   ],
   "source": [
    "from sklearn.model_selection import train_test_split\n",
    "\n",
    "# Validation set\n",
    "X_valid: np.ndarray\n",
    "y_valid: np.ndarray\n",
    "\n",
    "# Create a valid set for models hyperparameters tuning\n",
    "X_train, X_valid, y_train, y_valid = train_test_split(\n",
    "    X_train_valid, y_train_valid, test_size=0.20, random_state=42)\n",
    "\n",
    "print(\"Train set:\")\n",
    "print(f\"  X_train: shape={X_train.shape}, dtype={X_train.dtype}\")\n",
    "print(f\"  y_train: shape={y_train.shape}, dtype={y_train.dtype}\")\n",
    "\n",
    "print(\"\\n Valid pset:\")\n",
    "print(f\"  X_valid: shape={X_valid.shape}, dtype={X_valid.dtype}\")\n",
    "print(f\"  y_valid: shape={y_valid.shape}, dtype={y_valid.dtype}\")\n",
    "\n",
    "print(\"\\n Test set:\")\n",
    "print(f\"  X_test:        shape={X_test.shape}, dtype={X_test.dtype}\")\n",
    "print(f\"  y_test:        shape={y_test.shape}, dtype={y_test.dtype}\")"
   ]
  },
  {
   "cell_type": "markdown",
   "id": "e6ddb021",
   "metadata": {},
   "source": [
    "# Data preparation\n",
    "* Get the map of labels\n",
    "* Get the valid set"
   ]
  },
  {
   "cell_type": "code",
   "execution_count": 5,
   "id": "0b240f1a",
   "metadata": {},
   "outputs": [
    {
     "name": "stdout",
     "output_type": "stream",
     "text": [
      "The list of unique label: [0, 1, 2, 3, 4, 5, 6, 7, 8, 9]\n",
      "The first labels in increasing order:[29, 4, 6, 9, 3, 27, 0, 7, 8, 1]\n"
     ]
    }
   ],
   "source": [
    "unique_labels: list[int] = list(np.unique(y_train_valid))\n",
    "print(f'The list of unique label: {unique_labels}')\n",
    "\n",
    "first_occurence_indices: list[int] = []\n",
    "\n",
    "# Get the list of index for the first labels\n",
    "for label in unique_labels:\n",
    "    for idx in range(len(y_train_valid)):\n",
    "        if y_train_valid[idx] == label:\n",
    "           first_occurence_indices.append(idx)\n",
    "           break\n",
    "print(f'The first labels in increasing order:{first_occurence_indices}')"
   ]
  },
  {
   "cell_type": "code",
   "execution_count": 6,
   "id": "3d220c6e",
   "metadata": {},
   "outputs": [
    {
     "name": "stdout",
     "output_type": "stream",
     "text": [
      "The map between label and class name: {0: 'airplane', 1: 'automobile', 2: 'bird', 3: 'cat', 4: 'deer', 5: 'dog', 6: 'frog', 7: 'horse', 8: 'ship', 9: 'truck'}\n"
     ]
    }
   ],
   "source": [
    "# https://www.cs.toronto.edu/~kriz/cifar.html\n",
    "CLASS_NAMES: list[str] = ['airplane', 'automobile', 'bird', 'cat', 'deer',\n",
    "               'dog', 'frog', 'horse', 'ship', 'truck']\n",
    "\n",
    "label_to_class: dict[int, str] = dict(zip(unique_labels, CLASS_NAMES))\n",
    "\n",
    "print(\"The map between label and class name:\", label_to_class)"
   ]
  },
  {
   "cell_type": "code",
   "execution_count": 8,
   "id": "8ac4762d",
   "metadata": {},
   "outputs": [
    {
     "name": "stdout",
     "output_type": "stream",
     "text": [
      "horse\n"
     ]
    },
    {
     "data": {
      "image/png": "[encoded data removed]",
      "text/plain": [
       "<Figure size 640x480 with 1 Axes>"
      ]
     },
     "metadata": {},
     "output_type": "display_data"
    }
   ],
   "source": [
    "def print_class_plot_img(img_nbr:int)->None:\n",
    "    print(label_to_class[y_train_valid[img_nbr].item()])\n",
    "    plt.imshow(X_train_valid[img_nbr])\n",
    "\n",
    "print_class_plot_img(img_nbr = 7)"
   ]
  },
  {
   "cell_type": "markdown",
   "id": "33789006",
   "metadata": {},
   "source": [
    "**Note**: The images have a low resolution"
   ]
  },
  {
   "cell_type": "markdown",
   "id": "8fe81e1c",
   "metadata": {},
   "source": [
    "# Feature engineering\n",
    "* extract feature with pretrained models\n",
    "* compare features extracted at different levels\n",
    "* show top features by label"
   ]
  },
  {
   "cell_type": "markdown",
   "id": "3bda51cf",
   "metadata": {},
   "source": [
    "## Extact features from images\n",
    "- https://keras.io/examples/vision/image_classification_efficientnet_fine_tuning/\n",
    "- https://keras.io/api/applications/#extract-features-from-an-arbitrary-intermediate-layer-with-vgg19\n",
    "- https://keras.io/api/applications/#usage-examples-for-image-classification-models\n"
   ]
  },
  {
   "cell_type": "code",
   "execution_count": 10,
   "id": "3f55a8b8",
   "metadata": {},
   "outputs": [],
   "source": [
    "IMG_SIZE = 160 # origninal img size (32, 32, 3), optimal img size (224, 224, 3)"
   ]
  },
  {
   "cell_type": "markdown",
   "id": "4ef82e81",
   "metadata": {},
   "source": [
    "### Feature extractor"
   ]
  },
  {
   "cell_type": "code",
   "execution_count": null,
   "id": "aa2ac100",
   "metadata": {},
   "outputs": [
    {
     "name": "stdout",
     "output_type": "stream",
     "text": [
      "Type of feat_train: <class 'numpy.ndarray'>\n",
      "Shape of feat_train: (40000, 1280)\n",
      "Type of feat_valid: <class 'numpy.ndarray'>\n",
      "Shape of feat_valid: (10000, 1280)\n",
      "Type of feat_test: <class 'numpy.ndarray'>\n",
      "Shape of feat_test: (10000, 1280)\n"
     ]
    }
   ],
   "source": [
    "from tensorflow import keras\n",
    "from keras.applications import MobileNetV2\n",
    "from keras.applications.mobilenet_v2 import preprocess_input\n",
    "from keras.models import Model\n",
    "\n",
    "# Load the model without the fully connected layer \n",
    "backbone: Model = MobileNetV2(\n",
    "    weights=\"imagenet\", \n",
    "    include_top=False, pooling=\"avg\",\n",
    "    input_shape=(IMG_SIZE, IMG_SIZE, 3)\n",
    "    )\n",
    "backbone.trainable = False\n",
    "\n",
    "# Build the feature extractor\n",
    "feature_extractor: Model = tf.keras.Sequential()\n",
    "feature_extractor.add(keras.layers.Input(shape=(32, 32, 3), dtype=tf.uint8))\n",
    "feature_extractor.add(keras.layers.Resizing(IMG_SIZE, IMG_SIZE, interpolation=\"bilinear\"))\n",
    "feature_extractor.add(keras.layers.Lambda(lambda x: preprocess_input(tf.cast(x, tf.float32))))\n",
    "feature_extractor.add(backbone)\n",
    "\n",
    "# Extract features\n",
    "feat_train: np.ndarray = feature_extractor.predict(X_train, batch_size=256, verbose=0)  # (N_train, 1280)\n",
    "feat_valid: np.ndarray = feature_extractor.predict(X_valid, batch_size=256, verbose=0)  # (N_valid, 1280)\n",
    "feat_test: np.ndarray  = feature_extractor.predict(X_test,  batch_size=256, verbose=0)  # (N_test, 1280)\n",
    "\n",
    "# Debug prints\n",
    "print(\"Type of feat_train:\", type(feat_train))\n",
    "print(\"Shape of feat_train:\", feat_train.shape)\n",
    "print(\"feat_train dtype (expected: float32 by default):\", feat_train.dtype)\n",
    "\n",
    "print(\"Type of feat_valid:\", type(feat_valid))\n",
    "print(\"Shape of feat_valid:\", feat_valid.shape)\n",
    "print(\"feat_valid dtype (expected: float32 by default):\", feat_valid.dtype)\n",
    "\n",
    "print(\"Type of feat_test:\", type(feat_test))\n",
    "print(\"Shape of feat_test:\", feat_test.shape)\n",
    "print(\"feat_test dtype (expected: float32 by default):\", feat_train.dtype)"
   ]
  },
  {
   "cell_type": "markdown",
   "id": "48683439",
   "metadata": {},
   "source": [
    "### Save features"
   ]
  },
  {
   "cell_type": "code",
   "execution_count": 12,
   "id": "3d60f756",
   "metadata": {},
   "outputs": [],
   "source": [
    "from pathlib import Path\n",
    "\n",
    "# Path to ../features relative to current working directory\n",
    "features_dir: Path = (Path.cwd() / \"..\" / \"features\").resolve()\n",
    "features_dir.mkdir(exist_ok=True)"
   ]
  },
  {
   "cell_type": "code",
   "execution_count": null,
   "id": "e82e673b",
   "metadata": {},
   "outputs": [
    {
     "name": "stdout",
     "output_type": "stream",
     "text": [
      "Saved to: /mnt/c/Users/aelgu.adyx/Documents/unibe/m1_2_prj_cas_aml/features/mobilenetv2_160_features.npz\n"
     ]
    }
   ],
   "source": [
    "# Labels: flatten to 1-D\n",
    "y_train_1d: np.ndarray = np.asarray(y_train).ravel().astype(np.int64)\n",
    "y_valid_1d: np.ndarray = np.asarray(y_valid).ravel().astype(np.int64)\n",
    "y_test_1d:  np.ndarray = np.asarray(y_test).ravel().astype(np.int64)\n",
    "\n",
    "# Save the features and metadata as a single compressed NPZ\n",
    "out_path = features_dir / f\"mobilenetv2_{IMG_SIZE}_features.npz\"\n",
    "np.savez_compressed(\n",
    "    file = out_path,\n",
    "    feat_train=feat_train,\n",
    "    feat_valid=feat_valid,\n",
    "    feat_test=feat_test,\n",
    "    y_train=y_train_1d,\n",
    "    y_valid=y_valid_1d,\n",
    "    y_test=y_test_1d,\n",
    "    backbone=np.array([\"MobileNetV2\"], dtype=object),\n",
    "    img_size=np.array([IMG_SIZE], dtype=np.int32),\n",
    "    dtype=np.array([str(feat_train.dtype)], dtype=object),\n",
    ")\n",
    "print(\"Saved to:\", out_path)"
   ]
  },
  {
   "cell_type": "markdown",
   "id": "7b608ded",
   "metadata": {},
   "source": [
    "# Models training\n",
    "* Dummy classify\n",
    "* On the fly data augmentation\n",
    "* Baseline model: logistic regression\n",
    "* comparison with random forest\n",
    "* hyperparameter tuning: GridsearchCV"
   ]
  },
  {
   "cell_type": "markdown",
   "id": "f67edd0c",
   "metadata": {},
   "source": [
    "## Load features"
   ]
  },
  {
   "cell_type": "code",
   "execution_count": 52,
   "id": "a3e5b767",
   "metadata": {},
   "outputs": [
    {
     "name": "stdout",
     "output_type": "stream",
     "text": [
      "feat_train: (40000, 1280) float32\n",
      "feat_valid: (10000, 1280) float32\n",
      "feat_test : (10000, 1280) float32\n",
      "y_train  : (40000,) int64\n",
      "y_valid  : (10000,) int64\n",
      "y_test   : (10000,) int64\n"
     ]
    }
   ],
   "source": [
    "# Load features and labels from file\n",
    "bundle = np.load(features_dir / f\"mobilenetv2_{IMG_SIZE}_features.npz\", allow_pickle=True)\n",
    "\n",
    "# Take features (vectors) and labels\n",
    "feat_train = bundle[\"feat_train\"]\n",
    "feat_valid = bundle[\"feat_valid\"]\n",
    "feat_test  = bundle[\"feat_test\"]\n",
    "y_train_1d = bundle[\"y_train\"]\n",
    "y_valid_1d = bundle[\"y_valid\"]\n",
    "y_test_1d  = bundle[\"y_test\"]\n",
    "\n",
    "# Print shape and dtype for check\n",
    "print(\"feat_train:\", feat_train.shape, feat_train.dtype)\n",
    "print(\"feat_valid:\", feat_valid.shape, feat_valid.dtype)\n",
    "print(\"feat_test :\", feat_test.shape,  feat_test.dtype)\n",
    "print(\"y_train  :\", y_train_1d.shape, y_train_1d.dtype)\n",
    "print(\"y_valid  :\", y_valid_1d.shape, y_valid_1d.dtype)\n",
    "print(\"y_test   :\", y_test_1d.shape,  y_test_1d.dtype)"
   ]
  },
  {
   "cell_type": "markdown",
   "id": "944a3642",
   "metadata": {},
   "source": [
    "## Sklearn models"
   ]
  },
  {
   "cell_type": "markdown",
   "id": "6b2327cb",
   "metadata": {},
   "source": [
    "### Import sklearn packages"
   ]
  },
  {
   "cell_type": "code",
   "execution_count": 53,
   "id": "b60384eb",
   "metadata": {},
   "outputs": [],
   "source": [
    "from sklearn.metrics import classification_report, accuracy_score\n",
    "from sklearn.preprocessing import StandardScaler\n",
    "\n",
    "from sklearn.linear_model import LogisticRegression\n",
    "from sklearn.ensemble import RandomForestClassifier\n",
    "from sklearn.svm import LinearSVC\n",
    "\n",
    "from sklearn.pipeline import make_pipeline\n",
    "from sklearn.pipeline import Pipeline"
   ]
  },
  {
   "cell_type": "markdown",
   "id": "dfe8b6d9",
   "metadata": {},
   "source": [
    "### Helper function"
   ]
  },
  {
   "cell_type": "code",
   "execution_count": 54,
   "id": "7f529158",
   "metadata": {},
   "outputs": [],
   "source": [
    "def fit_and_report(clf, Xtr, ytr, Xte, yte, name=\"Model\"):\n",
    "    # clf.fit(Xtr, ytr)\n",
    "    y_pred = clf.predict(Xte)\n",
    "    print(f\"[{name}] Accuracy:\", accuracy_score(yte, y_pred))\n",
    "    print(classification_report(yte, y_pred, digits=4))\n",
    "    return None"
   ]
  },
  {
   "cell_type": "markdown",
   "id": "ba035ba6",
   "metadata": {},
   "source": [
    "### Dummy classifier"
   ]
  },
  {
   "cell_type": "code",
   "execution_count": 55,
   "id": "22dd6d15",
   "metadata": {},
   "outputs": [],
   "source": [
    "## TODO: add dummy classifier to have baseline to evaluate the learning of other models"
   ]
  },
  {
   "cell_type": "markdown",
   "id": "b3240e23",
   "metadata": {},
   "source": [
    "### Logistic regression"
   ]
  },
  {
   "cell_type": "code",
   "execution_count": 56,
   "id": "f2c946dc",
   "metadata": {},
   "outputs": [
    {
     "name": "stdout",
     "output_type": "stream",
     "text": [
      "[Logistic Regression] Accuracy: 0.8272\n",
      "              precision    recall  f1-score   support\n",
      "\n",
      "           0     0.8325    0.8273    0.8299       973\n",
      "           1     0.9079    0.9162    0.9120       979\n",
      "           2     0.8024    0.7689    0.7853      1030\n",
      "           3     0.7216    0.7019    0.7116      1023\n",
      "           4     0.7639    0.8114    0.7869       933\n",
      "           5     0.7740    0.7557    0.7647      1015\n",
      "           6     0.8634    0.8695    0.8664       996\n",
      "           7     0.8312    0.8370    0.8341       994\n",
      "           8     0.8790    0.8859    0.8825      1017\n",
      "           9     0.8907    0.9010    0.8958      1040\n",
      "\n",
      "    accuracy                         0.8272     10000\n",
      "   macro avg     0.8267    0.8275    0.8269     10000\n",
      "weighted avg     0.8268    0.8272    0.8269     10000\n",
      "\n"
     ]
    }
   ],
   "source": [
    "# Logistic Regression (multiclass) + standardization\n",
    "lr_clf: Pipeline = make_pipeline(\n",
    "    StandardScaler(),  # scale features improves LR convergence\n",
    "    LogisticRegression(\n",
    "        penalty=\"l2\",\n",
    "        C=1.0,\n",
    "        solver=\"lbfgs\",          # supports multinomial + n_jobs\n",
    "        max_iter=500,\n",
    "        n_jobs=-1,\n",
    "        random_state=42,\n",
    "    )\n",
    ")\n",
    "\n",
    "# Train on feature vectors (2D)\n",
    "lr_clf.fit(feat_train, y_train_1d)\n",
    "\n",
    "# Evaluate on validation features (2D)\n",
    "fit_and_report(\n",
    "    clf=lr_clf,\n",
    "    Xtr=feat_train, ytr=y_train_1d,\n",
    "    Xte=feat_valid, yte=y_valid_1d,\n",
    "    name=\"Logistic Regression\"\n",
    ")"
   ]
  },
  {
   "cell_type": "markdown",
   "id": "627f505f",
   "metadata": {},
   "source": [
    "### Random forest"
   ]
  },
  {
   "cell_type": "code",
   "execution_count": 57,
   "id": "6523f839",
   "metadata": {},
   "outputs": [
    {
     "name": "stdout",
     "output_type": "stream",
     "text": [
      "[Random forest] Accuracy: 0.8184\n",
      "              precision    recall  f1-score   support\n",
      "\n",
      "           0     0.8172    0.8088    0.8130       973\n",
      "           1     0.8943    0.9244    0.9091       979\n",
      "           2     0.8513    0.7282    0.7849      1030\n",
      "           3     0.6733    0.6911    0.6821      1023\n",
      "           4     0.7405    0.8167    0.7768       933\n",
      "           5     0.7765    0.7360    0.7557      1015\n",
      "           6     0.8669    0.8896    0.8781       996\n",
      "           7     0.8326    0.8058    0.8190       994\n",
      "           8     0.8427    0.8958    0.8684      1017\n",
      "           9     0.8940    0.8923    0.8932      1040\n",
      "\n",
      "    accuracy                         0.8184     10000\n",
      "   macro avg     0.8190    0.8189    0.8180     10000\n",
      "weighted avg     0.8193    0.8184    0.8180     10000\n",
      "\n"
     ]
    }
   ],
   "source": [
    "# Random Forest classifier\n",
    "rf_clf: RandomForestClassifier = RandomForestClassifier(\n",
    "    n_estimators=300,      # number of trees\n",
    "    max_depth=None,        # let trees expand fully (or set e.g. 20)\n",
    "    min_samples_split=2,\n",
    "    min_samples_leaf=1,\n",
    "    max_features=\"sqrt\",   # good default for classification\n",
    "    bootstrap=True,\n",
    "    n_jobs=-1,             # use all cores\n",
    "    random_state=42,\n",
    ")\n",
    "\n",
    "# Train on feature vectors\n",
    "rf_clf.fit(feat_train, y_train_1d)\n",
    "\n",
    "# Evaluate on valid features\n",
    "fit_and_report(clf=rf_clf, \n",
    "               Xtr=feat_train, ytr=y_train_1d, \n",
    "               Xte=feat_valid, yte=y_valid_1d, \n",
    "               name=\"Random forest\")"
   ]
  },
  {
   "cell_type": "markdown",
   "id": "4f5ad1b6",
   "metadata": {},
   "source": [
    "### SVM"
   ]
  },
  {
   "cell_type": "code",
   "execution_count": 58,
   "id": "a6cf4210",
   "metadata": {},
   "outputs": [
    {
     "name": "stdout",
     "output_type": "stream",
     "text": [
      "[SVM] Accuracy: 0.8429\n",
      "              precision    recall  f1-score   support\n",
      "\n",
      "           0     0.8422    0.8499    0.8460       973\n",
      "           1     0.8805    0.9030    0.8916       979\n",
      "           2     0.8545    0.7922    0.8222      1030\n",
      "           3     0.7485    0.7185    0.7332      1023\n",
      "           4     0.7973    0.8349    0.8157       933\n",
      "           5     0.8032    0.7842    0.7936      1015\n",
      "           6     0.8898    0.8996    0.8947       996\n",
      "           7     0.8516    0.8773    0.8642       994\n",
      "           8     0.8841    0.8850    0.8845      1017\n",
      "           9     0.8717    0.8885    0.8800      1040\n",
      "\n",
      "    accuracy                         0.8429     10000\n",
      "   macro avg     0.8423    0.8433    0.8426     10000\n",
      "weighted avg     0.8425    0.8429    0.8424     10000\n",
      "\n"
     ]
    }
   ],
   "source": [
    "svm_clf: Pipeline = make_pipeline(\n",
    "    StandardScaler(),\n",
    "    LinearSVC(dual=False, C=1.0, max_iter=5000, random_state=42)\n",
    ")\n",
    "\n",
    "svm_clf.fit(feat_train, y_train_1d)\n",
    "\n",
    "# Evaluate on valid features\n",
    "fit_and_report(clf=svm_clf, \n",
    "               Xtr=feat_train, ytr=y_train_1d, \n",
    "               Xte=feat_valid, yte=y_valid_1d, \n",
    "               name=\"SVM\")"
   ]
  },
  {
   "cell_type": "markdown",
   "id": "c0cd3435",
   "metadata": {},
   "source": [
    "## Tensorflow/keras models\n"
   ]
  },
  {
   "cell_type": "markdown",
   "id": "b398eb51",
   "metadata": {},
   "source": [
    "### Import tensorflow/keras packages"
   ]
  },
  {
   "cell_type": "code",
   "execution_count": 59,
   "id": "06ec9e86",
   "metadata": {},
   "outputs": [],
   "source": [
    "import tensorflow as tf\n",
    "\n",
    "keras = tf.keras\n",
    "layers = keras.layers\n",
    "regularizers = keras.regularizers\n",
    "callbacks = keras.callbacks\n",
    "\n",
    "# from tensorflow import keras\n",
    "# from tensorflow.python.keras import layers, regularizers, callbacks\n",
    "\n",
    "# from tensorflow import keras\n",
    "# from tensorflow.keras import layers, regularizers, callbacks\n"
   ]
  },
  {
   "cell_type": "markdown",
   "id": "c405746c",
   "metadata": {},
   "source": [
    "### Dense model"
   ]
  },
  {
   "cell_type": "code",
   "execution_count": null,
   "id": "1c0a8ba4",
   "metadata": {},
   "outputs": [
    {
     "name": "stdout",
     "output_type": "stream",
     "text": [
      "Epoch 1/150\n",
      "157/157 [==============================] - 5s 22ms/step - loss: 2.1119 - accuracy: 0.4773 - val_loss: 1.1689 - val_accuracy: 0.8001 - lr: 0.0010\n",
      "Epoch 2/150\n",
      "157/157 [==============================] - 4s 22ms/step - loss: 1.3047 - accuracy: 0.7539 - val_loss: 0.9982 - val_accuracy: 0.8362 - lr: 0.0010\n",
      "Epoch 3/150\n",
      "157/157 [==============================] - 3s 22ms/step - loss: 1.1437 - accuracy: 0.7919 - val_loss: 0.9137 - val_accuracy: 0.8468 - lr: 0.0010\n",
      "Epoch 4/150\n",
      "157/157 [==============================] - 5s 32ms/step - loss: 1.0312 - accuracy: 0.8112 - val_loss: 0.8377 - val_accuracy: 0.8551 - lr: 0.0010\n",
      "Epoch 5/150\n",
      "157/157 [==============================] - 9s 60ms/step - loss: 0.9499 - accuracy: 0.8212 - val_loss: 0.7777 - val_accuracy: 0.8608 - lr: 0.0010\n",
      "Epoch 6/150\n",
      "157/157 [==============================] - 7s 44ms/step - loss: 0.8909 - accuracy: 0.8260 - val_loss: 0.7268 - val_accuracy: 0.8609 - lr: 0.0010\n",
      "Epoch 7/150\n",
      "157/157 [==============================] - 6s 41ms/step - loss: 0.8394 - accuracy: 0.8295 - val_loss: 0.6917 - val_accuracy: 0.8629 - lr: 0.0010\n",
      "Epoch 8/150\n",
      "157/157 [==============================] - 6s 37ms/step - loss: 0.7980 - accuracy: 0.8311 - val_loss: 0.6617 - val_accuracy: 0.8643 - lr: 0.0010\n",
      "Epoch 9/150\n",
      "157/157 [==============================] - 9s 57ms/step - loss: 0.7646 - accuracy: 0.8343 - val_loss: 0.6281 - val_accuracy: 0.8679 - lr: 0.0010\n",
      "Epoch 10/150\n",
      "157/157 [==============================] - 6s 39ms/step - loss: 0.7363 - accuracy: 0.8371 - val_loss: 0.6219 - val_accuracy: 0.8656 - lr: 0.0010\n",
      "Epoch 11/150\n",
      "157/157 [==============================] - 7s 46ms/step - loss: 0.7207 - accuracy: 0.8385 - val_loss: 0.6012 - val_accuracy: 0.8682 - lr: 0.0010\n",
      "Epoch 12/150\n",
      "157/157 [==============================] - 11s 69ms/step - loss: 0.6965 - accuracy: 0.8435 - val_loss: 0.5921 - val_accuracy: 0.8685 - lr: 0.0010\n",
      "Epoch 13/150\n",
      "157/157 [==============================] - 7s 46ms/step - loss: 0.6904 - accuracy: 0.8433 - val_loss: 0.5937 - val_accuracy: 0.8640 - lr: 0.0010\n",
      "Epoch 14/150\n",
      "156/157 [============================>.] - ETA: 0s - loss: 0.6853 - accuracy: 0.8435\n",
      "Epoch 14: ReduceLROnPlateau reducing learning rate to 0.0005000000237487257.\n",
      "157/157 [==============================] - 9s 60ms/step - loss: 0.6856 - accuracy: 0.8435 - val_loss: 0.5843 - val_accuracy: 0.8674 - lr: 0.0010\n",
      "Epoch 15/150\n",
      "157/157 [==============================] - 6s 40ms/step - loss: 0.6532 - accuracy: 0.8529 - val_loss: 0.5548 - val_accuracy: 0.8758 - lr: 5.0000e-04\n",
      "Epoch 16/150\n",
      "157/157 [==============================] - 6s 38ms/step - loss: 0.6229 - accuracy: 0.8560 - val_loss: 0.5366 - val_accuracy: 0.8749 - lr: 5.0000e-04\n",
      "Epoch 17/150\n",
      "157/157 [==============================] - ETA: 0s - loss: 0.6103 - accuracy: 0.8586\n",
      "Epoch 17: ReduceLROnPlateau reducing learning rate to 0.0002500000118743628.\n",
      "157/157 [==============================] - 7s 42ms/step - loss: 0.6103 - accuracy: 0.8586 - val_loss: 0.5292 - val_accuracy: 0.8755 - lr: 5.0000e-04\n",
      "Epoch 18/150\n",
      "157/157 [==============================] - 6s 38ms/step - loss: 0.5931 - accuracy: 0.8625 - val_loss: 0.5152 - val_accuracy: 0.8765 - lr: 2.5000e-04\n",
      "Epoch 19/150\n",
      "157/157 [==============================] - 10s 62ms/step - loss: 0.5763 - accuracy: 0.8639 - val_loss: 0.5085 - val_accuracy: 0.8802 - lr: 2.5000e-04\n",
      "Epoch 20/150\n",
      "157/157 [==============================] - 6s 41ms/step - loss: 0.5632 - accuracy: 0.8657 - val_loss: 0.5037 - val_accuracy: 0.8779 - lr: 2.5000e-04\n",
      "Epoch 21/150\n",
      "156/157 [============================>.] - ETA: 0s - loss: 0.5550 - accuracy: 0.8670\n",
      "Epoch 21: ReduceLROnPlateau reducing learning rate to 0.0001250000059371814.\n",
      "157/157 [==============================] - 6s 41ms/step - loss: 0.5553 - accuracy: 0.8669 - val_loss: 0.4971 - val_accuracy: 0.8792 - lr: 2.5000e-04\n",
      "Epoch 22/150\n",
      "157/157 [==============================] - 6s 39ms/step - loss: 0.5366 - accuracy: 0.8718 - val_loss: 0.4907 - val_accuracy: 0.8794 - lr: 1.2500e-04\n",
      "Test accuracy: 0.8777999877929688\n"
     ]
    }
   ],
   "source": [
    "l2: float = 5e-4\n",
    "\n",
    "# Fully connected classifier model (feedforward)\n",
    "fc_clf: keras.Sequential = keras.Sequential([\n",
    "    keras.Input(shape=(feat_train.shape[1],)),\n",
    "\n",
    "    layers.Dropout(0.25),\n",
    "\n",
    "    layers.Dense(256, use_bias=False, kernel_regularizer=regularizers.l2(l2)),\n",
    "    layers.BatchNormalization(),\n",
    "    layers.Activation(\"relu\"),\n",
    "    layers.Dropout(0.5),\n",
    "\n",
    "    layers.Dense(256, use_bias=False, kernel_regularizer=regularizers.l2(l2)),\n",
    "    layers.BatchNormalization(),\n",
    "    layers.Activation(\"relu\"),\n",
    "    layers.Dropout(0.5),\n",
    "    \n",
    "    layers.Dense(256, use_bias=False, kernel_regularizer=regularizers.l2(l2)),\n",
    "    layers.BatchNormalization(),\n",
    "    layers.Activation(\"relu\"),\n",
    "    layers.Dropout(0.5),\n",
    "    \n",
    "    layers.Dense(256, use_bias=False, kernel_regularizer=regularizers.l2(l2)),\n",
    "    layers.BatchNormalization(),\n",
    "    layers.Activation(\"relu\"),\n",
    "    layers.Dropout(0.5),\n",
    "\n",
    "    layers.Dense(10, activation=\"softmax\"),\n",
    "])\n",
    "\n",
    "fc_clf.compile(optimizer=keras.optimizers.Adam(1e-3),\n",
    "              loss=\"sparse_categorical_crossentropy\",\n",
    "              metrics=[\"accuracy\"])\n",
    "\n",
    "cbs: list = [\n",
    "    callbacks.ReduceLROnPlateau(monitor=\"val_accuracy\", factor=0.5, patience=2, min_lr=1e-5, verbose=1),\n",
    "    callbacks.EarlyStopping(monitor=\"val_accuracy\", patience=3, restore_best_weights=True),\n",
    "]\n",
    "\n",
    "history: keras.callbacks.History = fc_clf.fit(\n",
    "    feat_train, y_train_1d,\n",
    "    validation_data=(feat_valid, y_valid_1d),  # use real validation set\n",
    "    epochs=150,\n",
    "    batch_size=256,\n",
    "    callbacks=cbs,\n",
    "    verbose=1,\n",
    ")\n",
    "\n",
    "\n",
    "print(\"Test accuracy:\", fc_clf.evaluate(feat_test, y_test_1d, verbose=0)[1])"
   ]
  },
  {
   "cell_type": "code",
   "execution_count": 60,
   "id": "ddb0007d",
   "metadata": {},
   "outputs": [
    {
     "data": {
      "text/plain": [
       "<matplotlib.legend.Legend at 0x7f108428e6d0>"
      ]
     },
     "execution_count": 60,
     "metadata": {},
     "output_type": "execute_result"
    },
    {
     "data": {
      "image/png": "[encoded data removed]",
      "text/plain": [
       "<Figure size 640x480 with 1 Axes>"
      ]
     },
     "metadata": {},
     "output_type": "display_data"
    }
   ],
   "source": [
    "plt.plot(history.history['accuracy'], label='accuracy')\n",
    "plt.plot(history.history['val_accuracy'], label = 'val_accuracy')\n",
    "plt.xlabel('Epoch')\n",
    "plt.ylabel('Accuracy')\n",
    "plt.ylim([0.5, 1])\n",
    "plt.legend(loc='lower right')\n",
    "\n",
    "# test_loss, test_acc = model.evaluate(test_images,  test_labels, verbose=2)"
   ]
  },
  {
   "cell_type": "code",
   "execution_count": 61,
   "id": "378abd4e",
   "metadata": {},
   "outputs": [
    {
     "data": {
      "text/plain": [
       "<matplotlib.legend.Legend at 0x7f1086e5ac90>"
      ]
     },
     "execution_count": 61,
     "metadata": {},
     "output_type": "execute_result"
    },
    {
     "data": {
      "image/png": "[encoded data removed]",
      "text/plain": [
       "<Figure size 640x480 with 1 Axes>"
      ]
     },
     "metadata": {},
     "output_type": "display_data"
    }
   ],
   "source": [
    "plt.plot(history.history['loss'], label='loss')\n",
    "plt.plot(history.history['val_loss'], label = 'val_loss')\n",
    "plt.xlabel('Epoch')\n",
    "plt.ylabel('Loss')\n",
    "plt.ylim([0.4, 1.6])\n",
    "plt.legend(loc='lower right')"
   ]
  },
  {
   "cell_type": "code",
   "execution_count": 62,
   "id": "97812e92",
   "metadata": {},
   "outputs": [
    {
     "name": "stdout",
     "output_type": "stream",
     "text": [
      "Test accuracy (recomputed): 0.8802\n",
      "              precision    recall  f1-score   support\n",
      "\n",
      "    airplane     0.8847    0.8911    0.8879       973\n",
      "  automobile     0.9376    0.9356    0.9366       979\n",
      "        bird     0.9015    0.8262    0.8622      1030\n",
      "         cat     0.7602    0.7840    0.7719      1023\n",
      "        deer     0.8006    0.8821    0.8394       933\n",
      "         dog     0.8410    0.8079    0.8241      1015\n",
      "        frog     0.9300    0.9207    0.9253       996\n",
      "       horse     0.9031    0.9004    0.9018       994\n",
      "        ship     0.9308    0.9253    0.9280      1017\n",
      "       truck     0.9212    0.9327    0.9269      1040\n",
      "\n",
      "    accuracy                         0.8802     10000\n",
      "   macro avg     0.8811    0.8806    0.8804     10000\n",
      "weighted avg     0.8814    0.8802    0.8804     10000\n",
      "\n"
     ]
    }
   ],
   "source": [
    "# Predict class indices\n",
    "y_prob = fc_clf.predict(feat_valid, batch_size=1024, verbose=0)\n",
    "y_pred = np.argmax(y_prob, axis=1)\n",
    "\n",
    "# (optional) CIFAR-10 class names\n",
    "CLASS_NAMES = [\"airplane\",\"automobile\",\"bird\",\"cat\",\"deer\",\n",
    "               \"dog\",\"frog\",\"horse\",\"ship\",\"truck\"]\n",
    "\n",
    "print(\"Test accuracy (recomputed):\", accuracy_score(y_valid_1d, y_pred))\n",
    "print(classification_report(y_valid_1d, y_pred, digits=4, target_names=CLASS_NAMES))\n"
   ]
  },
  {
   "cell_type": "code",
   "execution_count": 63,
   "id": "2c013e6c",
   "metadata": {},
   "outputs": [
    {
     "name": "stdout",
     "output_type": "stream",
     "text": [
      "Test accuracy (recomputed): 0.8778\n",
      "              precision    recall  f1-score   support\n",
      "\n",
      "    airplane     0.8897    0.8950    0.8923      1000\n",
      "  automobile     0.9345    0.9270    0.9307      1000\n",
      "        bird     0.8827    0.8350    0.8582      1000\n",
      "         cat     0.7551    0.7770    0.7659      1000\n",
      "        deer     0.8284    0.8690    0.8482      1000\n",
      "         dog     0.8391    0.8190    0.8289      1000\n",
      "        frog     0.9099    0.9190    0.9144      1000\n",
      "       horse     0.9074    0.8820    0.8945      1000\n",
      "        ship     0.9253    0.9170    0.9211      1000\n",
      "       truck     0.9116    0.9380    0.9246      1000\n",
      "\n",
      "    accuracy                         0.8778     10000\n",
      "   macro avg     0.8784    0.8778    0.8779     10000\n",
      "weighted avg     0.8784    0.8778    0.8779     10000\n",
      "\n"
     ]
    }
   ],
   "source": [
    "# Predict class indices\n",
    "y_prob = fc_clf.predict(feat_test, batch_size=1024, verbose=0)\n",
    "y_pred = np.argmax(y_prob, axis=1)\n",
    "\n",
    "# (optional) CIFAR-10 class names\n",
    "CLASS_NAMES = [\"airplane\",\"automobile\",\"bird\",\"cat\",\"deer\",\n",
    "               \"dog\",\"frog\",\"horse\",\"ship\",\"truck\"]\n",
    "\n",
    "print(\"Test accuracy (recomputed):\", accuracy_score(y_test_1d, y_pred))\n",
    "print(classification_report(y_test_1d, y_pred, digits=4, target_names=CLASS_NAMES))"
   ]
  },
  {
   "cell_type": "markdown",
   "id": "940ffe22",
   "metadata": {},
   "source": [
    "# Results and interpretations"
   ]
  },
  {
   "cell_type": "markdown",
   "id": "11db6ca0",
   "metadata": {},
   "source": []
  }
 ],
 "metadata": {
  "kernelspec": {
   "display_name": "tf",
   "language": "python",
   "name": "python3"
  },
  "language_info": {
   "codemirror_mode": {
    "name": "ipython",
    "version": 3
   },
   "file_extension": ".py",
   "mimetype": "text/x-python",
   "name": "python",
   "nbconvert_exporter": "python",
   "pygments_lexer": "ipython3",
   "version": "3.11.5"
  }
 },
 "nbformat": 4,
 "nbformat_minor": 5
}
